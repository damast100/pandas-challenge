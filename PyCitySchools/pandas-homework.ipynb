{
 "cells": [
  {
   "cell_type": "code",
   "execution_count": 1,
   "id": "84652e39",
   "metadata": {},
   "outputs": [],
   "source": [
    "import pandas as pd"
   ]
  },
  {
   "cell_type": "code",
   "execution_count": 2,
   "id": "bbc880fb",
   "metadata": {},
   "outputs": [],
   "source": [
    "# Creating variables for each file path\n",
    "school = \"C:\\\\Users\\\\Derek\\\\Desktop\\\\pandas-challenge\\\\Resources\\\\schools_complete.csv\"\n",
    "student = \"C:\\\\Users\\\\Derek\\\\Desktop\\\\pandas-challenge\\\\Resources\\\\students_complete.csv\"\n",
    "\n",
    "# Read School and Student Data File and store into Pandas DataFrames\n",
    "school_data = pd.read_csv(school)\n",
    "student_data = pd.read_csv(student)"
   ]
  },
  {
   "cell_type": "code",
   "execution_count": null,
   "id": "881b8722",
   "metadata": {},
   "outputs": [],
   "source": [
    "# Merge the two files together\n",
    "complete_data = pd.merge(student_data, school_data, how=\"left\", on=[\"school_name\", \"school_name\"])"
   ]
  }
 ],
 "metadata": {
  "kernelspec": {
   "display_name": "Python 3 (ipykernel)",
   "language": "python",
   "name": "python3"
  },
  "language_info": {
   "codemirror_mode": {
    "name": "ipython",
    "version": 3
   },
   "file_extension": ".py",
   "mimetype": "text/x-python",
   "name": "python",
   "nbconvert_exporter": "python",
   "pygments_lexer": "ipython3",
   "version": "3.9.7"
  }
 },
 "nbformat": 4,
 "nbformat_minor": 5
}
